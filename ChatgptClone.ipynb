{
  "nbformat": 4,
  "nbformat_minor": 0,
  "metadata": {
    "colab": {
      "provenance": [],
      "authorship_tag": "ABX9TyPDDijMy2AIOxFXUTUh+Qg/",
      "include_colab_link": true
    },
    "kernelspec": {
      "name": "python3",
      "display_name": "Python 3"
    },
    "language_info": {
      "name": "python"
    }
  },
  "cells": [
    {
      "cell_type": "markdown",
      "metadata": {
        "id": "view-in-github",
        "colab_type": "text"
      },
      "source": [
        "<a href=\"https://colab.research.google.com/github/NilakshanRaveendran/Chatgpt-2-Architecture/blob/main/ChatgptClone.ipynb\" target=\"_parent\"><img src=\"https://colab.research.google.com/assets/colab-badge.svg\" alt=\"Open In Colab\"/></a>"
      ]
    },
    {
      "cell_type": "markdown",
      "source": [
        "#This is the **Chatgpt 2 Architecture Done with TensorFlow**, in this it include the:\n",
        "- Transformer Block\n",
        "- Layer Normalization\n",
        "- Dense Layer"
      ],
      "metadata": {
        "id": "LaW-5V-k8gGR"
      }
    },
    {
      "cell_type": "markdown",
      "source": [
        "First import all **nessasarys**"
      ],
      "metadata": {
        "id": "yQCxvmcM9GHK"
      }
    },
    {
      "cell_type": "code",
      "execution_count": null,
      "metadata": {
        "id": "rdGrgNAMNjMX"
      },
      "outputs": [],
      "source": [
        "import tensorflow as tf\n",
        "from tensorflow.keras.layers import Layer, Embedding, Dense, LayerNormalization, Dropout\n",
        "from tensorflow.keras import Model"
      ]
    },
    {
      "cell_type": "markdown",
      "source": [
        "Create the Self Attention **(Multihead Self Attention)**"
      ],
      "metadata": {
        "id": "4avklwAu9N30"
      }
    },
    {
      "cell_type": "code",
      "source": [
        "class MultiHeadAttention(Layer):\n",
        "  def __init__(self, embed_dim, num_heads):\n",
        "    super().__init__()\n",
        "    self.embed_dim = embed_dim\n",
        "    self.num_heads = num_heads\n",
        "    self.att_head_size = embed_dim // num_heads\n",
        "\n",
        "\n",
        "    self.wq = Dense(embed_dim)\n",
        "    self.wk = Dense(embed_dim)\n",
        "    self.wv = Dense(embed_dim)\n",
        "\n",
        "    self.dense = Dense(embed_dim)\n",
        "\n",
        "\n",
        "  def split_heads(self, x, batch_size):\n",
        "    x = tf.reshape(x, (batch_size, -1, self.num_heads, self.att_head_size))\n",
        "    return tf.transpose(x, perm=[0, 2, 1, 3])\n",
        "\n",
        "\n",
        "  def call(self, q,k,v,mask):\n",
        "    batch_size = tf.shape(q)[0]\n",
        "\n",
        "    q = self.split_heads(self.wq(q), batch_size)\n",
        "    k = self.split_heads(self.wk(k), batch_size)\n",
        "    v = self.split_heads(self.wv(v), batch_size)\n",
        "\n",
        "\n",
        "    matmul_qk = tf.matmul(q, k, transpose_b=True)\n",
        "    dk = tf.cast(tf.shape(k)[-1], tf.float32)\n",
        "    scaled_attention_logits = matmul_qk / tf.math.sqrt(dk)\n",
        "    if mask is not None:\n",
        "      scaled_attention_logits += (mask * -1e9)\n",
        "\n",
        "    attention_weights = tf.nn.softmax(scaled_attention_logits, axis=-1)\n",
        "    output = tf.matmul(attention_weights, v)\n",
        "    output = tf.transpose(output, perm=[0, 2, 1, 3])\n",
        "    concat_attention = tf.reshape(output, (batch_size, -1, self.embed_dim))\n",
        "    return self.dense(concat_attention)\n"
      ],
      "metadata": {
        "id": "WgyS-5FTOiae"
      },
      "execution_count": null,
      "outputs": []
    },
    {
      "cell_type": "markdown",
      "source": [
        "Then Create **Feed Forward Neural Network**"
      ],
      "metadata": {
        "id": "j73JNQ4x9e-R"
      }
    },
    {
      "cell_type": "code",
      "source": [
        "class FeedForwardNetwork(Layer):\n",
        "  def __init__(self, embed_dim, dff):\n",
        "    super().__init__()\n",
        "    self.dense1 = Dense(dff, activation='gelu')\n",
        "    self.dense2 = Dense(embed_dim)\n",
        "\n",
        "  def call(self, x):\n",
        "    return self.dense2(self.dense1(x))"
      ],
      "metadata": {
        "id": "SJmS8a2Xw3-C"
      },
      "execution_count": null,
      "outputs": []
    },
    {
      "cell_type": "markdown",
      "source": [
        "Then Create the **Transformer Block, Layer Normalization, Drop**"
      ],
      "metadata": {
        "id": "d1C-HFjq9oNJ"
      }
    },
    {
      "cell_type": "code",
      "source": [
        "class TransformerBlock(Layer):\n",
        "  def __init__(self,embed_dim, num_heads, dff, dropout_rate=0.1):\n",
        "    super().__init__()\n",
        "    self.att = MultiHeadAttention(embed_dim, num_heads)\n",
        "    self.ffn = FeedForwardNetwork(embed_dim, dff)\n",
        "    self.norm1 = LayerNormalization(epsilon=1e-6)\n",
        "    self.norm2 = LayerNormalization(epsilon=1e-6)\n",
        "    self.dropout1 = Dropout(dropout_rate)\n",
        "    self.dropout2 = Dropout(dropout_rate)\n",
        "\n",
        "  def call(self, x, mask = None):\n",
        "    attn_output = self.att(x,x,x,mask)\n",
        "    attn_output = self.dropout1(attn_output)\n",
        "    out1 = self.norm1(x + attn_output)\n",
        "    ffn_output = self.ffn(out1)\n",
        "    ffn_output = self.dropout2(ffn_output)\n",
        "    return self.norm2(out1 + ffn_output)"
      ],
      "metadata": {
        "id": "Of1U7bTszVi2"
      },
      "execution_count": null,
      "outputs": []
    },
    {
      "cell_type": "markdown",
      "source": [],
      "metadata": {
        "id": "dIUTJkpJ999j"
      }
    },
    {
      "cell_type": "code",
      "source": [
        "class GPT2(Model):\n",
        "  def __init__(self, vocab_size, max_length, embed_dim = 768, num_heads = 12 , dff = 3072, num_layers = 12, dropout_rate = 0.1):\n",
        "    super().__init__()\n",
        "\n",
        "    self.token_emb = Embedding(vocab_size, embed_dim)\n",
        "    self.pos_emb = Embedding(max_length, embed_dim)\n",
        "\n",
        "    self.transformer_blocks = [TransformerBlock(embed_dim,num_heads,dff,dropout_rate) for _ in range(num_layers)]\n",
        "\n",
        "    self.norm = LayerNormalization(epsilon=1e-6)\n",
        "    self.out = Dense(vocab_size)\n",
        "\n",
        "\n",
        "  def create_casual_mask(self,seq_len):\n",
        "    mask = tf.linalg.band_part(tf.ones((seq_len, seq_len)), -1, 0)\n",
        "    return 1 - mask\n",
        "\n",
        "  def call(self,x):\n",
        "    seq_len = tf.shape(x)[1]\n",
        "    mask = self.create_casual_mask(seq_len)\n",
        "\n",
        "    token_embeddings = self.token_emb(x)\n",
        "    pos_embeddings = self.pos_emb(tf.range(seq_len)[:, tf.newaxis])\n",
        "    x = token_embeddings + pos_embeddings\n",
        "\n",
        "    for block in self.transformer_blocks:\n",
        "      x = block(x,mask)\n",
        "\n",
        "    x = self.norm(x)\n",
        "    return self.out(x)"
      ],
      "metadata": {
        "id": "KSKvGQKq66G4"
      },
      "execution_count": null,
      "outputs": []
    },
    {
      "cell_type": "code",
      "source": [
        "VOCAB_SIZE = 50257\n",
        "MAX_LENGTH = 1024\n",
        "\n",
        "inputs = tf.keras.Input(shape=(MAX_LENGTH,), dtype=tf.int32)\n",
        "outputs = GPT2(vocab_size=VOCAB_SIZE, max_length=MAX_LENGTH)(inputs)\n",
        "gpt2 = Model(inputs, outputs)\n",
        "\n",
        "gpt2.build(input_shape=(1, MAX_LENGTH))\n",
        "gpt2.summary()"
      ],
      "metadata": {
        "colab": {
          "base_uri": "https://localhost:8080/",
          "height": 193
        },
        "id": "tHmdmIjQTRgh",
        "outputId": "049151d1-430a-43b1-a836-ced946d42180"
      },
      "execution_count": null,
      "outputs": [
        {
          "output_type": "display_data",
          "data": {
            "text/plain": [
              "\u001b[1mModel: \"functional\"\u001b[0m\n"
            ],
            "text/html": [
              "<pre style=\"white-space:pre;overflow-x:auto;line-height:normal;font-family:Menlo,'DejaVu Sans Mono',consolas,'Courier New',monospace\"><span style=\"font-weight: bold\">Model: \"functional\"</span>\n",
              "</pre>\n"
            ]
          },
          "metadata": {}
        },
        {
          "output_type": "display_data",
          "data": {
            "text/plain": [
              "┏━━━━━━━━━━━━━━━━━━━━━━━━━━━━━━━━━┳━━━━━━━━━━━━━━━━━━━━━━━━┳━━━━━━━━━━━━━━━┓\n",
              "┃\u001b[1m \u001b[0m\u001b[1mLayer (type)                   \u001b[0m\u001b[1m \u001b[0m┃\u001b[1m \u001b[0m\u001b[1mOutput Shape          \u001b[0m\u001b[1m \u001b[0m┃\u001b[1m \u001b[0m\u001b[1m      Param #\u001b[0m\u001b[1m \u001b[0m┃\n",
              "┡━━━━━━━━━━━━━━━━━━━━━━━━━━━━━━━━━╇━━━━━━━━━━━━━━━━━━━━━━━━╇━━━━━━━━━━━━━━━┩\n",
              "│ input_layer_4 (\u001b[38;5;33mInputLayer\u001b[0m)      │ (\u001b[38;5;45mNone\u001b[0m, \u001b[38;5;34m1024\u001b[0m)           │             \u001b[38;5;34m0\u001b[0m │\n",
              "├─────────────────────────────────┼────────────────────────┼───────────────┤\n",
              "│ gpt2 (\u001b[38;5;33mGPT2\u001b[0m)                     │ (\u001b[38;5;34m1024\u001b[0m, \u001b[38;5;34m1024\u001b[0m, \u001b[38;5;34m50257\u001b[0m)    │   \u001b[38;5;34m163,087,441\u001b[0m │\n",
              "└─────────────────────────────────┴────────────────────────┴───────────────┘\n"
            ],
            "text/html": [
              "<pre style=\"white-space:pre;overflow-x:auto;line-height:normal;font-family:Menlo,'DejaVu Sans Mono',consolas,'Courier New',monospace\">┏━━━━━━━━━━━━━━━━━━━━━━━━━━━━━━━━━┳━━━━━━━━━━━━━━━━━━━━━━━━┳━━━━━━━━━━━━━━━┓\n",
              "┃<span style=\"font-weight: bold\"> Layer (type)                    </span>┃<span style=\"font-weight: bold\"> Output Shape           </span>┃<span style=\"font-weight: bold\">       Param # </span>┃\n",
              "┡━━━━━━━━━━━━━━━━━━━━━━━━━━━━━━━━━╇━━━━━━━━━━━━━━━━━━━━━━━━╇━━━━━━━━━━━━━━━┩\n",
              "│ input_layer_4 (<span style=\"color: #0087ff; text-decoration-color: #0087ff\">InputLayer</span>)      │ (<span style=\"color: #00d7ff; text-decoration-color: #00d7ff\">None</span>, <span style=\"color: #00af00; text-decoration-color: #00af00\">1024</span>)           │             <span style=\"color: #00af00; text-decoration-color: #00af00\">0</span> │\n",
              "├─────────────────────────────────┼────────────────────────┼───────────────┤\n",
              "│ gpt2 (<span style=\"color: #0087ff; text-decoration-color: #0087ff\">GPT2</span>)                     │ (<span style=\"color: #00af00; text-decoration-color: #00af00\">1024</span>, <span style=\"color: #00af00; text-decoration-color: #00af00\">1024</span>, <span style=\"color: #00af00; text-decoration-color: #00af00\">50257</span>)    │   <span style=\"color: #00af00; text-decoration-color: #00af00\">163,087,441</span> │\n",
              "└─────────────────────────────────┴────────────────────────┴───────────────┘\n",
              "</pre>\n"
            ]
          },
          "metadata": {}
        },
        {
          "output_type": "display_data",
          "data": {
            "text/plain": [
              "\u001b[1m Total params: \u001b[0m\u001b[38;5;34m163,087,441\u001b[0m (622.13 MB)\n"
            ],
            "text/html": [
              "<pre style=\"white-space:pre;overflow-x:auto;line-height:normal;font-family:Menlo,'DejaVu Sans Mono',consolas,'Courier New',monospace\"><span style=\"font-weight: bold\"> Total params: </span><span style=\"color: #00af00; text-decoration-color: #00af00\">163,087,441</span> (622.13 MB)\n",
              "</pre>\n"
            ]
          },
          "metadata": {}
        },
        {
          "output_type": "display_data",
          "data": {
            "text/plain": [
              "\u001b[1m Trainable params: \u001b[0m\u001b[38;5;34m163,087,441\u001b[0m (622.13 MB)\n"
            ],
            "text/html": [
              "<pre style=\"white-space:pre;overflow-x:auto;line-height:normal;font-family:Menlo,'DejaVu Sans Mono',consolas,'Courier New',monospace\"><span style=\"font-weight: bold\"> Trainable params: </span><span style=\"color: #00af00; text-decoration-color: #00af00\">163,087,441</span> (622.13 MB)\n",
              "</pre>\n"
            ]
          },
          "metadata": {}
        },
        {
          "output_type": "display_data",
          "data": {
            "text/plain": [
              "\u001b[1m Non-trainable params: \u001b[0m\u001b[38;5;34m0\u001b[0m (0.00 B)\n"
            ],
            "text/html": [
              "<pre style=\"white-space:pre;overflow-x:auto;line-height:normal;font-family:Menlo,'DejaVu Sans Mono',consolas,'Courier New',monospace\"><span style=\"font-weight: bold\"> Non-trainable params: </span><span style=\"color: #00af00; text-decoration-color: #00af00\">0</span> (0.00 B)\n",
              "</pre>\n"
            ]
          },
          "metadata": {}
        }
      ]
    }
  ]
}